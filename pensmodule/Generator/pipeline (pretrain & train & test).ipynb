{
 "cells": [
  {
   "cell_type": "code",
   "execution_count": 1,
   "metadata": {},
   "outputs": [
    {
     "name": "stdout",
     "output_type": "stream",
     "text": [
      "True\n",
      "1\n"
     ]
    }
   ],
   "source": [
    "import numpy as np\n",
    "import pandas as pd\n",
    "import torch\n",
    "from torch import nn\n",
    "import pickle\n",
    "from tqdm import tqdm\n",
    "import re\n",
    "import json\n",
    "from torch.utils.data import DataLoader, Dataset\n",
    "import torch.optim as optim\n",
    "import torch.nn.functional as F\n",
    "from collections import Counter\n",
    "from pensmodule.Generator.train import *\n",
    "import json\n",
    "import matplotlib.pyplot as plt\n",
    "\n",
    "print(torch.cuda.is_available())\n",
    "print(torch.cuda.device_count())\n"
   ]
  },
  {
   "cell_type": "code",
   "execution_count": 2,
   "metadata": {},
   "outputs": [],
   "source": [
    "import os\n",
    "os.environ[\"CUDA_VISIBLE_DEVICES\"] = \"0\"\n",
    "device = torch.device('cuda:0')"
   ]
  },
  {
   "cell_type": "markdown",
   "metadata": {},
   "source": [
    "## Prepare"
   ]
  },
  {
   "cell_type": "markdown",
   "metadata": {},
   "source": [
    "- **Config & Data**"
   ]
  },
  {
   "cell_type": "code",
   "execution_count": 3,
   "metadata": {},
   "outputs": [],
   "source": [
    "from data import *\n",
    "with open('config.json') as f:\n",
    "    config = json.load(f)"
   ]
  },
  {
   "cell_type": "code",
   "execution_count": 4,
   "metadata": {},
   "outputs": [
    {
     "name": "stdout",
     "output_type": "stream",
     "text": [
      "141910 (141910, 300)\n"
     ]
    }
   ],
   "source": [
    "sources = np.load('../../data2/sources.npy')\n",
    "target_inputs = np.load('../../data2/target_inputs.npy')\n",
    "target_outputs = np.load('../../data2/target_outputs.npy')\n",
    "embedding_matrix = np.load('../../data2/embedding_matrix2.npy')\n",
    "with open('../../data2/dict.pkl', 'rb') as f:\n",
    "    news_index,category_dict,word_dict = pickle.load(f)\n",
    "index2word = {}\n",
    "for k,v in word_dict.items():\n",
    "    index2word[v] = k\n",
    "print(len(word_dict),embedding_matrix.shape)"
   ]
  },
  {
   "cell_type": "markdown",
   "metadata": {},
   "source": [
    "- **Model**"
   ]
  },
  {
   "cell_type": "code",
   "execution_count": 5,
   "metadata": {},
   "outputs": [
    {
     "name": "stderr",
     "output_type": "stream",
     "text": [
      "C:\\Users\\毛钟楷\\AppData\\Local\\Programs\\Python\\Python39\\lib\\site-packages\\torch\\nn\\modules\\rnn.py:62: UserWarning: dropout option adds dropout after all but last recurrent layer, so non-zero dropout expects num_layers greater than 1, but got dropout=0.2 and num_layers=1\n",
      "  warnings.warn(\"dropout option adds dropout after all but last \"\n"
     ]
    }
   ],
   "source": [
    "from pensmodule.Generator import HeadlineGen\n",
    "model = HeadlineGen(config['model'], embedding_matrix, index2word, device, pointer_gen=True).to(device)"
   ]
  },
  {
   "cell_type": "code",
   "execution_count": 6,
   "metadata": {},
   "outputs": [
    {
     "data": {
      "text/plain": [
       "NRMS(\n",
       "  (embed): Embedding(141910, 300, padding_idx=0)\n",
       "  (attn_word): MultiHeadAttention(\n",
       "    (W_Q): Linear(in_features=300, out_features=400, bias=True)\n",
       "    (W_K): Linear(in_features=300, out_features=400, bias=True)\n",
       "    (W_V): Linear(in_features=300, out_features=400, bias=True)\n",
       "  )\n",
       "  (attn_pool_word): AttentionPooling(\n",
       "    (att_fc1): Linear(in_features=400, out_features=200, bias=True)\n",
       "    (att_fc2): Linear(in_features=200, out_features=1, bias=True)\n",
       "    (drop_layer): Dropout(p=0.2, inplace=False)\n",
       "  )\n",
       "  (attn_pool_news): AttentionPooling(\n",
       "    (att_fc1): Linear(in_features=64, out_features=32, bias=True)\n",
       "    (att_fc2): Linear(in_features=32, out_features=1, bias=True)\n",
       "    (drop_layer): Dropout(p=0.2, inplace=False)\n",
       "  )\n",
       "  (drop_layer): Dropout(p=0.2, inplace=False)\n",
       "  (fc): Linear(in_features=400, out_features=64, bias=True)\n",
       "  (criterion): CrossEntropyLoss()\n",
       ")"
      ]
     },
     "execution_count": 6,
     "metadata": {},
     "output_type": "execute_result"
    }
   ],
   "source": [
    "from pensmodule.UserEncoder import NRMS\n",
    "\n",
    "usermodel = NRMS(embedding_matrix)\n",
    "usermodel.load_state_dict(torch.load('../../runs/userencoder/NAML-2.pkl'))\n",
    "usermodel = usermodel.to(device)\n",
    "usermodel.eval()"
   ]
  },
  {
   "cell_type": "markdown",
   "metadata": {},
   "source": [
    "- **Load Trainer**"
   ]
  },
  {
   "cell_type": "code",
   "execution_count": 7,
   "metadata": {},
   "outputs": [],
   "source": [
    "# here you can set different modes for computing coverage scores\n",
    "trainer = Trainer(config, model, usermodel, device, mode=4, experiment_name='exp')"
   ]
  },
  {
   "cell_type": "markdown",
   "metadata": {},
   "source": [
    "## Pretrain Seq2seq model"
   ]
  },
  {
   "cell_type": "markdown",
   "metadata": {},
   "source": [
    "**Noted:**\\\n",
    "**For a fair comparison, here we advise using other source and targets (from your own collected news datasets) for pretraining.**"
   ]
  },
  {
   "cell_type": "code",
   "execution_count": 8,
   "metadata": {},
   "outputs": [],
   "source": [
    "global_user_embed = np.load('../../data2/global_user_embed2.npy')\n",
    "global_user_embed = torch.as_tensor(global_user_embed, device=device).float()"
   ]
  },
  {
   "cell_type": "code",
   "execution_count": 9,
   "metadata": {},
   "outputs": [],
   "source": [
    "trainer._init_optimizer()"
   ]
  },
  {
   "cell_type": "code",
   "execution_count": 10,
   "metadata": {},
   "outputs": [
    {
     "name": "stdout",
     "output_type": "stream",
     "text": [
      "epoch: 1\n"
     ]
    },
    {
     "name": "stderr",
     "output_type": "stream",
     "text": [
      "  0%|          | 0/3556 [00:00<?, ?it/s]C:\\Users\\毛钟楷\\AppData\\Local\\Programs\\Python\\Python39\\lib\\site-packages\\torch\\nn\\functional.py:1795: UserWarning: nn.functional.tanh is deprecated. Use torch.tanh instead.\n",
      "  warnings.warn(\"nn.functional.tanh is deprecated. Use torch.tanh instead.\")\n",
      "pretrain loss: 57.676:  14%|█▍        | 500/3556 [02:03<12:24,  4.10it/s] "
     ]
    },
    {
     "name": "stdout",
     "output_type": "stream",
     "text": [
      "step= 500, pretrain loss: 64.516\n"
     ]
    },
    {
     "name": "stderr",
     "output_type": "stream",
     "text": [
      "pretrain loss: 52.146:  28%|██▊       | 1000/3556 [04:04<10:25,  4.09it/s]"
     ]
    },
    {
     "name": "stdout",
     "output_type": "stream",
     "text": [
      "step=1000, pretrain loss: 59.083\n"
     ]
    },
    {
     "name": "stderr",
     "output_type": "stream",
     "text": [
      "pretrain loss: 49.799:  42%|████▏     | 1500/3556 [06:05<08:19,  4.12it/s]"
     ]
    },
    {
     "name": "stdout",
     "output_type": "stream",
     "text": [
      "step=1500, pretrain loss: 56.221\n"
     ]
    },
    {
     "name": "stderr",
     "output_type": "stream",
     "text": [
      "pretrain loss: 47.884:  56%|█████▌    | 2000/3556 [08:10<06:24,  4.04it/s]"
     ]
    },
    {
     "name": "stdout",
     "output_type": "stream",
     "text": [
      "step=2000, pretrain loss: 54.283\n"
     ]
    },
    {
     "name": "stderr",
     "output_type": "stream",
     "text": [
      "pretrain loss: 46.826:  70%|███████   | 2500/3556 [10:12<04:19,  4.08it/s]"
     ]
    },
    {
     "name": "stdout",
     "output_type": "stream",
     "text": [
      "step=2500, pretrain loss: 52.891\n"
     ]
    },
    {
     "name": "stderr",
     "output_type": "stream",
     "text": [
      "pretrain loss: 45.995:  84%|████████▍ | 3000/3556 [12:14<02:15,  4.11it/s]"
     ]
    },
    {
     "name": "stdout",
     "output_type": "stream",
     "text": [
      "step=3000, pretrain loss: 51.811\n"
     ]
    },
    {
     "name": "stderr",
     "output_type": "stream",
     "text": [
      "pretrain loss: 45.256:  98%|█████████▊| 3500/3556 [14:15<00:13,  4.08it/s]"
     ]
    },
    {
     "name": "stdout",
     "output_type": "stream",
     "text": [
      "step=3500, pretrain loss: 50.908\n"
     ]
    },
    {
     "name": "stderr",
     "output_type": "stream",
     "text": [
      "pretrain loss: 45.170: 100%|██████████| 3556/3556 [14:28<00:00,  4.09it/s]\n"
     ]
    },
    {
     "name": "stdout",
     "output_type": "stream",
     "text": [
      "Saved ../../runs/seq2seq\\exp\\checkpoint_pretrain_epoch_1.pth\n",
      "epoch: 2\n"
     ]
    },
    {
     "name": "stderr",
     "output_type": "stream",
     "text": [
      "pretrain loss: 42.481:  14%|█▍        | 500/3556 [02:02<12:31,  4.07it/s]"
     ]
    },
    {
     "name": "stdout",
     "output_type": "stream",
     "text": [
      "step= 500, pretrain loss: 42.368\n"
     ]
    },
    {
     "name": "stderr",
     "output_type": "stream",
     "text": [
      "pretrain loss: 42.193:  28%|██▊       | 1000/3556 [04:06<10:23,  4.10it/s]"
     ]
    },
    {
     "name": "stdout",
     "output_type": "stream",
     "text": [
      "step=1000, pretrain loss: 42.249\n"
     ]
    },
    {
     "name": "stderr",
     "output_type": "stream",
     "text": [
      "pretrain loss: 41.999:  42%|████▏     | 1500/3556 [06:10<08:30,  4.03it/s]"
     ]
    },
    {
     "name": "stdout",
     "output_type": "stream",
     "text": [
      "step=1500, pretrain loss: 42.089\n"
     ]
    },
    {
     "name": "stderr",
     "output_type": "stream",
     "text": [
      "pretrain loss: 41.764:  56%|█████▌    | 2000/3556 [08:12<06:21,  4.08it/s]"
     ]
    },
    {
     "name": "stdout",
     "output_type": "stream",
     "text": [
      "step=2000, pretrain loss: 42.052\n"
     ]
    },
    {
     "name": "stderr",
     "output_type": "stream",
     "text": [
      "pretrain loss: 41.807:  70%|███████   | 2500/3556 [10:17<04:18,  4.09it/s]"
     ]
    },
    {
     "name": "stdout",
     "output_type": "stream",
     "text": [
      "step=2500, pretrain loss: 41.948\n"
     ]
    },
    {
     "name": "stderr",
     "output_type": "stream",
     "text": [
      "pretrain loss: 40.714:  84%|████████▍ | 3000/3556 [12:22<02:16,  4.07it/s]"
     ]
    },
    {
     "name": "stdout",
     "output_type": "stream",
     "text": [
      "step=3000, pretrain loss: 41.760\n"
     ]
    },
    {
     "name": "stderr",
     "output_type": "stream",
     "text": [
      "pretrain loss: 41.121:  98%|█████████▊| 3500/3556 [14:27<00:13,  4.09it/s]"
     ]
    },
    {
     "name": "stdout",
     "output_type": "stream",
     "text": [
      "step=3500, pretrain loss: 41.616\n"
     ]
    },
    {
     "name": "stderr",
     "output_type": "stream",
     "text": [
      "pretrain loss: 40.761: 100%|██████████| 3556/3556 [14:41<00:00,  4.04it/s]\n"
     ]
    },
    {
     "name": "stdout",
     "output_type": "stream",
     "text": [
      "Saved ../../runs/seq2seq\\exp\\checkpoint_pretrain_epoch_2.pth\n",
      "epoch: 3\n"
     ]
    },
    {
     "name": "stderr",
     "output_type": "stream",
     "text": [
      "pretrain loss: 37.807:  14%|█▍        | 500/3556 [02:01<12:25,  4.10it/s]"
     ]
    },
    {
     "name": "stdout",
     "output_type": "stream",
     "text": [
      "step= 500, pretrain loss: 37.605\n"
     ]
    },
    {
     "name": "stderr",
     "output_type": "stream",
     "text": [
      "pretrain loss: 37.836:  28%|██▊       | 1000/3556 [04:02<10:21,  4.12it/s]"
     ]
    },
    {
     "name": "stdout",
     "output_type": "stream",
     "text": [
      "step=1000, pretrain loss: 37.716\n"
     ]
    },
    {
     "name": "stderr",
     "output_type": "stream",
     "text": [
      "pretrain loss: 38.148:  42%|████▏     | 1500/3556 [06:02<08:25,  4.07it/s]"
     ]
    },
    {
     "name": "stdout",
     "output_type": "stream",
     "text": [
      "step=1500, pretrain loss: 37.872\n"
     ]
    },
    {
     "name": "stderr",
     "output_type": "stream",
     "text": [
      "pretrain loss: 37.882:  56%|█████▌    | 2000/3556 [08:03<06:22,  4.07it/s]"
     ]
    },
    {
     "name": "stdout",
     "output_type": "stream",
     "text": [
      "step=2000, pretrain loss: 37.884\n"
     ]
    },
    {
     "name": "stderr",
     "output_type": "stream",
     "text": [
      "pretrain loss: 37.135:  70%|███████   | 2500/3556 [10:03<04:16,  4.11it/s]"
     ]
    },
    {
     "name": "stdout",
     "output_type": "stream",
     "text": [
      "step=2500, pretrain loss: 37.816\n"
     ]
    },
    {
     "name": "stderr",
     "output_type": "stream",
     "text": [
      "pretrain loss: 37.852:  84%|████████▍ | 3000/3556 [12:04<02:15,  4.11it/s]"
     ]
    },
    {
     "name": "stdout",
     "output_type": "stream",
     "text": [
      "step=3000, pretrain loss: 37.804\n"
     ]
    },
    {
     "name": "stderr",
     "output_type": "stream",
     "text": [
      "pretrain loss: 37.899:  98%|█████████▊| 3500/3556 [14:06<00:13,  4.07it/s]"
     ]
    },
    {
     "name": "stdout",
     "output_type": "stream",
     "text": [
      "step=3500, pretrain loss: 37.796\n"
     ]
    },
    {
     "name": "stderr",
     "output_type": "stream",
     "text": [
      "pretrain loss: 37.969: 100%|██████████| 3556/3556 [14:19<00:00,  4.14it/s]\n"
     ]
    },
    {
     "name": "stdout",
     "output_type": "stream",
     "text": [
      "Saved ../../runs/seq2seq\\exp\\checkpoint_pretrain_epoch_3.pth\n"
     ]
    }
   ],
   "source": [
    "for epoch in range(1,4):\n",
    "    print('epoch:', epoch)\n",
    "    s_dset = Seq2SeqDataset(sources, target_inputs, target_outputs)\n",
    "    train_iter = DataLoader(s_dset, batch_size=32, shuffle=True)\n",
    "    \n",
    "    trainer.pretrain(train_iter, global_user_embed)\n",
    "    trainer.save_checkpoint(tag='pretrain_epoch_'+str(epoch))"
   ]
  },
  {
   "cell_type": "markdown",
   "metadata": {},
   "source": [
    "## Train Personalized Generator"
   ]
  },
  {
   "cell_type": "markdown",
   "metadata": {},
   "source": [
    "- **data loader**"
   ]
  },
  {
   "cell_type": "code",
   "execution_count": 8,
   "metadata": {},
   "outputs": [],
   "source": [
    "with open('../../data2/TrainUsers.pkl', 'rb') as f:\n",
    "    TrainUsers = pickle.load(f)\n",
    "with open('../../data2/TrainSamples.pkl', 'rb') as f:\n",
    "    TrainSamples = pickle.load(f)"
   ]
  },
  {
   "cell_type": "code",
   "execution_count": 9,
   "metadata": {},
   "outputs": [],
   "source": [
    "news_scoring = np.load('../../data2/news_scoring2.npy')"
   ]
  },
  {
   "cell_type": "code",
   "execution_count": 10,
   "metadata": {},
   "outputs": [],
   "source": [
    "i_dset = ImpressionDataset(news_scoring, sources, target_inputs, target_outputs, TrainUsers, TrainSamples)\n",
    "data_loader = DataLoader(i_dset, batch_size=32, shuffle=True)"
   ]
  },
  {
   "cell_type": "markdown",
   "metadata": {},
   "source": [
    "- **train**"
   ]
  },
  {
   "cell_type": "code",
   "execution_count": 11,
   "metadata": {},
   "outputs": [
    {
     "name": "stdout",
     "output_type": "stream",
     "text": [
      "Loaded ../../runs/seq2seq\\exp\\checkpoint_pretrain_epoch_3.pth\n"
     ]
    }
   ],
   "source": [
    "trainer.load_checkpoint(tag='pretrain_epoch_3')"
   ]
  },
  {
   "cell_type": "code",
   "execution_count": 12,
   "metadata": {},
   "outputs": [],
   "source": [
    "trainer._init_evaluator_()"
   ]
  },
  {
   "cell_type": "code",
   "execution_count": 13,
   "metadata": {},
   "outputs": [
    {
     "name": "stdout",
     "output_type": "stream",
     "text": [
      "loading news body\n"
     ]
    }
   ],
   "source": [
    "trainer._init_context_()"
   ]
  },
  {
   "cell_type": "code",
   "execution_count": 14,
   "metadata": {},
   "outputs": [],
   "source": [
    "optimizer_params={'lr': 0.000001}\n",
    "scheduler_params={'step_size': 200, 'gamma': 0.98}\n",
    "trainer._init_optimizer(optimizer_params=optimizer_params,scheduler_params=scheduler_params)"
   ]
  },
  {
   "cell_type": "code",
   "execution_count": 15,
   "metadata": {},
   "outputs": [
    {
     "name": "stderr",
     "output_type": "stream",
     "text": [
      "  0%|          | 0/23850 [00:00<?, ?it/s]C:\\Users\\毛钟楷\\AppData\\Local\\Programs\\Python\\Python39\\lib\\site-packages\\torch\\nn\\functional.py:1795: UserWarning: nn.functional.tanh is deprecated. Use torch.tanh instead.\n",
      "  warnings.warn(\"nn.functional.tanh is deprecated. Use torch.tanh instead.\")\n",
      "train actor loss: 0.355, train critic loss: 0.417, train reward: 2.859:   2%|▏         | 500/23850 [13:52<12:10:28,  1.88s/it] "
     ]
    },
    {
     "name": "stdout",
     "output_type": "stream",
     "text": [
      "Saved ../../runs/seq2seq\\exp\\checkpoint_train_mod4_step_500.pth\n",
      "step= 500, train actor loss: -0.150, train critic loss: 0.417, train reward: 2.866\n"
     ]
    },
    {
     "name": "stderr",
     "output_type": "stream",
     "text": [
      "train actor loss: 0.073, train critic loss: 0.388, train reward: 2.957:   4%|▍         | 1000/23850 [28:17<12:09:46,  1.92s/it]"
     ]
    },
    {
     "name": "stdout",
     "output_type": "stream",
     "text": [
      "Saved ../../runs/seq2seq\\exp\\checkpoint_train_mod4_step_1000.pth\n",
      "step=1000, train actor loss: -0.047, train critic loss: 0.388, train reward: 2.956\n"
     ]
    },
    {
     "name": "stderr",
     "output_type": "stream",
     "text": [
      "train actor loss: -0.303, train critic loss: 0.399, train reward: 3.006:   6%|▋         | 1500/23850 [42:09<11:19:23,  1.82s/it]"
     ]
    },
    {
     "name": "stdout",
     "output_type": "stream",
     "text": [
      "Saved ../../runs/seq2seq\\exp\\checkpoint_train_mod4_step_1500.pth\n",
      "step=1500, train actor loss: -0.026, train critic loss: 0.399, train reward: 2.998\n"
     ]
    },
    {
     "name": "stderr",
     "output_type": "stream",
     "text": [
      "train actor loss: -0.749, train critic loss: 0.441, train reward: 3.182:   8%|▊         | 2000/23850 [55:37<10:43:51,  1.77s/it]"
     ]
    },
    {
     "name": "stdout",
     "output_type": "stream",
     "text": [
      "Saved ../../runs/seq2seq\\exp\\checkpoint_train_mod4_step_2000.pth\n",
      "step=2000, train actor loss: -0.141, train critic loss: 0.441, train reward: 3.057\n"
     ]
    },
    {
     "name": "stderr",
     "output_type": "stream",
     "text": [
      "train actor loss: 0.214, train critic loss: 0.368, train reward: 3.142:  10%|█         | 2500/23850 [1:08:00<9:41:21,  1.63s/it]  "
     ]
    },
    {
     "name": "stdout",
     "output_type": "stream",
     "text": [
      "Saved ../../runs/seq2seq\\exp\\checkpoint_train_mod4_step_2500.pth\n",
      "step=2500, train actor loss: 0.007, train critic loss: 0.368, train reward: 3.125\n"
     ]
    },
    {
     "name": "stderr",
     "output_type": "stream",
     "text": [
      "train actor loss: -0.654, train critic loss: 0.401, train reward: 3.229:  13%|█▎        | 3000/23850 [1:19:49<9:02:37,  1.56s/it] "
     ]
    },
    {
     "name": "stdout",
     "output_type": "stream",
     "text": [
      "Saved ../../runs/seq2seq\\exp\\checkpoint_train_mod4_step_3000.pth\n",
      "step=3000, train actor loss: -0.050, train critic loss: 0.401, train reward: 3.141\n"
     ]
    },
    {
     "name": "stderr",
     "output_type": "stream",
     "text": [
      "train actor loss: -0.662, train critic loss: 0.409, train reward: 3.165:  13%|█▎        | 3000/23850 [1:19:50<9:14:54,  1.60s/it]\n"
     ]
    }
   ],
   "source": [
    "rewards = trainer.train(data_loader,train_option='a2c', tag='mod4')"
   ]
  },
  {
   "cell_type": "code",
   "execution_count": 16,
   "metadata": {},
   "outputs": [
    {
     "data": {
      "image/png": "[encoded data removed]",
      "text/plain": [
       "<Figure size 432x288 with 1 Axes>"
      ]
     },
     "metadata": {
      "needs_background": "light"
     },
     "output_type": "display_data"
    }
   ],
   "source": [
    "x = np.arange(len(rewards))\n",
    "fig = plt.gcf()\n",
    "plt.plot(x[:3000],rewards[:3000])\n",
    "\n",
    "plt.xlabel(\"step\")\n",
    "plt.ylabel(\"reward\")\n",
    "plt.show()"
   ]
  },
  {
   "cell_type": "markdown",
   "metadata": {},
   "source": [
    "## Test"
   ]
  },
  {
   "cell_type": "code",
   "execution_count": 17,
   "metadata": {},
   "outputs": [],
   "source": [
    "with open('../../data2/TestUsers.pkl', 'rb') as f:\n",
    "    TestUsers = pickle.load(f)\n",
    "with open('../../data2/TestSamples.pkl', 'rb') as f:\n",
    "    TestSamples = pickle.load(f)"
   ]
  },
  {
   "cell_type": "code",
   "execution_count": 20,
   "metadata": {},
   "outputs": [
    {
     "data": {
      "text/plain": [
       "HeadlineGen(\n",
       "  (embeddings): Embedding(141910, 300)\n",
       "  (encoder): LSTMEncoder(\n",
       "    (embeddings): Embedding(141910, 300)\n",
       "    (rnn): LSTM(300, 64, batch_first=True, dropout=0.2, bidirectional=True)\n",
       "    (bridge): ModuleList(\n",
       "      (0): Linear(in_features=64, out_features=64, bias=True)\n",
       "      (1): Linear(in_features=64, out_features=64, bias=True)\n",
       "    )\n",
       "  )\n",
       "  (decoder): Decoder_P(\n",
       "    (embeddings): Embedding(141910, 300)\n",
       "    (dropout): Dropout(p=0.2, inplace=False)\n",
       "    (rnn): LSTM(300, 128, batch_first=True)\n",
       "    (attention): Attention(\n",
       "      (linear_out): Linear(in_features=256, out_features=128, bias=True)\n",
       "    )\n",
       "    (transform): ModuleList(\n",
       "      (0): Linear(in_features=64, out_features=128, bias=True)\n",
       "      (1): Linear(in_features=64, out_features=128, bias=True)\n",
       "    )\n",
       "    (out): Linear(in_features=128, out_features=141910, bias=True)\n",
       "    (p_gen_linear): Linear(in_features=128, out_features=1, bias=True)\n",
       "  )\n",
       "  (loss_fn): NLLLoss()\n",
       "  (dropout): Dropout(p=0.2, inplace=False)\n",
       ")"
      ]
     },
     "execution_count": 20,
     "metadata": {},
     "output_type": "execute_result"
    }
   ],
   "source": [
    "from pensmodule.Generator import *\n",
    "model_path = '../../runs/seq2seq/exp/checkpoint_train_mod4_step_2000.pth'\n",
    "model = load_model_from_ckpt(model_path).to(device)\n",
    "model.eval()"
   ]
  },
  {
   "cell_type": "code",
   "execution_count": 21,
   "metadata": {},
   "outputs": [
    {
     "data": {
      "text/plain": [
       "NRMS(\n",
       "  (embed): Embedding(141910, 300, padding_idx=0)\n",
       "  (attn_word): MultiHeadAttention(\n",
       "    (W_Q): Linear(in_features=300, out_features=400, bias=True)\n",
       "    (W_K): Linear(in_features=300, out_features=400, bias=True)\n",
       "    (W_V): Linear(in_features=300, out_features=400, bias=True)\n",
       "  )\n",
       "  (attn_pool_word): AttentionPooling(\n",
       "    (att_fc1): Linear(in_features=400, out_features=200, bias=True)\n",
       "    (att_fc2): Linear(in_features=200, out_features=1, bias=True)\n",
       "    (drop_layer): Dropout(p=0.2, inplace=False)\n",
       "  )\n",
       "  (attn_pool_news): AttentionPooling(\n",
       "    (att_fc1): Linear(in_features=64, out_features=32, bias=True)\n",
       "    (att_fc2): Linear(in_features=32, out_features=1, bias=True)\n",
       "    (drop_layer): Dropout(p=0.2, inplace=False)\n",
       "  )\n",
       "  (drop_layer): Dropout(p=0.2, inplace=False)\n",
       "  (fc): Linear(in_features=400, out_features=64, bias=True)\n",
       "  (criterion): CrossEntropyLoss()\n",
       ")"
      ]
     },
     "execution_count": 21,
     "metadata": {},
     "output_type": "execute_result"
    }
   ],
   "source": [
    "from pensmodule.UserEncoder import NRMS\n",
    "\n",
    "usermodel = NRMS(embedding_matrix)\n",
    "usermodel.load_state_dict(torch.load('../../runs/userencoder/NAML-2.pkl'))\n",
    "usermodel = usermodel.to(device)\n",
    "usermodel.eval()"
   ]
  },
  {
   "cell_type": "code",
   "execution_count": 22,
   "metadata": {},
   "outputs": [],
   "source": [
    "i_dset = TestImpressionDataset(news_scoring, sources, TestUsers, TestSamples)\n",
    "test_iter = DataLoader(i_dset, batch_size=16, shuffle=False)"
   ]
  },
  {
   "cell_type": "code",
   "execution_count": 23,
   "metadata": {},
   "outputs": [
    {
     "name": "stderr",
     "output_type": "stream",
     "text": [
      "  0%|          | 0/1288 [00:00<?, ?it/s]C:\\Users\\毛钟楷\\AppData\\Local\\Programs\\Python\\Python39\\lib\\site-packages\\torch\\nn\\functional.py:1795: UserWarning: nn.functional.tanh is deprecated. Use torch.tanh instead.\n",
      "  warnings.warn(\"nn.functional.tanh is deprecated. Use torch.tanh instead.\")\n",
      "100%|██████████| 1288/1288 [01:24<00:00, 15.32it/s]\n"
     ]
    }
   ],
   "source": [
    "from pensmodule.Generator.eval import predict\n",
    "refs, hyps, scores1, scores2, scoresf = predict(usermodel, model, test_iter, device, index2word, beam=False, beam_size=3, eos_id=2)\n",
    "# refs, hyps, scores1, scores2, scoresf = predict(usermodel, model, test_iter, device, index2word, beam=True, beam_size=3, eos_id=2)"
   ]
  },
  {
   "cell_type": "code",
   "execution_count": 24,
   "metadata": {},
   "outputs": [
    {
     "data": {
      "text/plain": [
       "(0.2507174604844272, 0.09233970093228006, 0.22024288242613968)"
      ]
     },
     "execution_count": 24,
     "metadata": {},
     "output_type": "execute_result"
    }
   ],
   "source": [
    "scores1.mean(), scores2.mean(), scoresf.mean()"
   ]
  },
  {
   "cell_type": "code",
   "execution_count": 25,
   "metadata": {},
   "outputs": [],
   "source": [
    "torch.save(model, '../../../model.pkl')"
   ]
  },
  {
   "cell_type": "code",
   "execution_count": null,
   "metadata": {},
   "outputs": [],
   "source": []
  }
 ],
 "metadata": {
  "interpreter": {
   "hash": "f1ea14d0bd9c7a0f4f2d255c0662c7e1119328c505d1c17d9d8f159415dfcf69"
  },
  "kernelspec": {
   "display_name": "Python 3.7.3 64-bit ('py3': conda)",
   "name": "python3"
  },
  "language_info": {
   "codemirror_mode": {
    "name": "ipython",
    "version": 3
   },
   "file_extension": ".py",
   "mimetype": "text/x-python",
   "name": "python",
   "nbconvert_exporter": "python",
   "pygments_lexer": "ipython3",
   "version": "3.9.9"
  }
 },
 "nbformat": 4,
 "nbformat_minor": 2
}
